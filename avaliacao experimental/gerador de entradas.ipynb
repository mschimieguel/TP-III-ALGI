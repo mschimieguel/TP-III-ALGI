{
 "cells": [
  {
   "cell_type": "code",
   "execution_count": 1,
   "metadata": {},
   "outputs": [],
   "source": [
    "import numpy as np\n",
    "import os\n",
    "import time\n",
    "import matplotlib.pyplot as plt\n",
    "import math\n",
    "from subprocess import check_output"
   ]
  },
  {
   "cell_type": "code",
   "execution_count": 2,
   "metadata": {},
   "outputs": [
    {
     "data": {
      "text/plain": [
       "(200,)"
      ]
     },
     "execution_count": 2,
     "metadata": {},
     "output_type": "execute_result"
    }
   ],
   "source": [
    "n1 = np.arange(2,10**5,500)\n",
    "n2 = np.arange(3,10**5,512)\n",
    "n3 = np.arange(3,2000,20)\n",
    "tarefas = [\"tarefa1\",\"tarefa2\"]\n",
    "n1.shape"
   ]
  },
  {
   "cell_type": "code",
   "execution_count": 3,
   "metadata": {},
   "outputs": [],
   "source": [
    "#gerando arquivos txt arvores linha reta\n",
    "if not os.path.exists(\"entradas\"):\n",
    "    os.mkdir(\"entradas\")\n",
    "if not os.path.exists(\"entradas/linetree\"):    \n",
    "    os.mkdir(\"entradas/linetree\")\n",
    "for i in range(len(n1)):\n",
    "    if not os.path.isfile(\"entradas/linetree/t\"+str(i)+\".txt\"):\n",
    "        with open(\"entradas/linetree/t\"+str(i)+\".txt\",\"w\") as f:\n",
    "            f.write(str(n1[i]) +\" \"+ str(n1[i]-1)+\"\\n\")\n",
    "            for j in range(n1[i]-1):\n",
    "                f.write(str(j)+ \" \" +str(j+1)+\"\\n\")    "
   ]
  },
  {
   "cell_type": "code",
   "execution_count": 4,
   "metadata": {},
   "outputs": [],
   "source": [
    "#arvores arquivos txt arvores binarias\n",
    "if not os.path.exists(\"entradas\"):\n",
    "    os.mkdir(\"entradas\")\n",
    "if not os.path.exists(\"entradas/binarytree\"):    \n",
    "    os.mkdir(\"entradas/binarytree\")\n",
    "for i in range(len(n2)):\n",
    "    if not os.path.isfile(\"entradas/binarytree/t\"+str(i)+\".txt\"):\n",
    "        with open(\"entradas/binarytree/t\"+str(i)+\".txt\",\"w\") as f:\n",
    "            f.write(str(n2[i]) +\" \"+ str(n2[i]-1)+\"\\n\")\n",
    "            l = 1\n",
    "            for j in range(math.floor(n2[i]/2)-1):\n",
    "                for k in range(2):\n",
    "                    f.write(str(j) +\" \"+ str(l)+\"\\n\")\n",
    "                    l = l + 1           "
   ]
  }
 ],
 "metadata": {
  "kernelspec": {
   "display_name": "Python 3",
   "language": "python",
   "name": "python3"
  },
  "language_info": {
   "codemirror_mode": {
    "name": "ipython",
    "version": 3
   },
   "file_extension": ".py",
   "mimetype": "text/x-python",
   "name": "python",
   "nbconvert_exporter": "python",
   "pygments_lexer": "ipython3",
   "version": "3.7.3"
  }
 },
 "nbformat": 4,
 "nbformat_minor": 2
}
