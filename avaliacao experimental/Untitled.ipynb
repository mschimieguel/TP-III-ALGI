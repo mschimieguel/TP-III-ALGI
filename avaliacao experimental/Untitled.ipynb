{
 "cells": [
  {
   "cell_type": "code",
   "execution_count": 1,
   "metadata": {},
   "outputs": [],
   "source": [
    "import numpy as np\n",
    "import os\n",
    "import time\n",
    "import matplotlib.pyplot as plt\n",
    "import math\n",
    "from subprocess import check_output"
   ]
  },
  {
   "cell_type": "code",
   "execution_count": 2,
   "metadata": {
    "scrolled": true
   },
   "outputs": [
    {
     "data": {
      "text/plain": [
       "(200,)"
      ]
     },
     "execution_count": 2,
     "metadata": {},
     "output_type": "execute_result"
    }
   ],
   "source": [
    "n1 = np.arange(2,10**5,500)\n",
    "n2 = np.arange(3,10**5,512)\n",
    "n3 = np.arange(3,2000,20)\n",
    "tarefas = [\"tarefa1\",\"tarefa2\"]\n",
    "n1.shape"
   ]
  },
  {
   "cell_type": "code",
   "execution_count": null,
   "metadata": {},
   "outputs": [],
   "source": [
    "#contando os tempos de execução \n",
    "qtd = 10\n",
    "tempos = np.zeros((2,n1.shape[0], qtd))\n",
    "for t in range(len(tarefas)):\n",
    "    for j in range(len(n1)):\n",
    "        for i in range(qtd):\n",
    "            #marcando o tempo de execução\n",
    "            inicio = time.time()\n",
    "            os.system('./../bin/tp3 '+ tarefas[t] +' \"entradas/linetree/t'+str(j)+'.txt\"')\n",
    "            fim = time.time()\n",
    "            tempos[t,j,i] = fim - inicio"
   ]
  },
  {
   "cell_type": "code",
   "execution_count": null,
   "metadata": {},
   "outputs": [],
   "source": [
    "#media dos tempos de execuçao \n",
    "mediaTempoTarefa1 = np.mean(tempos[0],axis=1)\n",
    "mediaTempoTarefa2 = np.mean(tempos[1],axis=1)\n",
    "#desvio padrao dos tempos\n",
    "DesvioPadraoTarefa1 = np.std(tempos[0],axis=1)\n",
    "DesvioPadraoTarefa2 = np.std(tempos[1],axis=1)\n"
   ]
  },
  {
   "cell_type": "code",
   "execution_count": null,
   "metadata": {},
   "outputs": [],
   "source": [
    "#plotando as medias dos tempos de excuçao \n",
    "plt.title(\"Tarefa1 x tarefa2 linetree\")\n",
    "plt.ylabel('media dos tempos em segundos')\n",
    "plt.xlabel('numero de vertices')\n",
    "\n",
    "plt.plot(n1,mediaTempoTarefa1)\n",
    "plt.plot(n1,mediaTempoTarefa2)"
   ]
  },
  {
   "cell_type": "code",
   "execution_count": null,
   "metadata": {},
   "outputs": [],
   "source": []
  }
 ],
 "metadata": {
  "kernelspec": {
   "display_name": "Python 3",
   "language": "python",
   "name": "python3"
  },
  "language_info": {
   "codemirror_mode": {
    "name": "ipython",
    "version": 3
   },
   "file_extension": ".py",
   "mimetype": "text/x-python",
   "name": "python",
   "nbconvert_exporter": "python",
   "pygments_lexer": "ipython3",
   "version": "3.7.3"
  }
 },
 "nbformat": 4,
 "nbformat_minor": 2
}
